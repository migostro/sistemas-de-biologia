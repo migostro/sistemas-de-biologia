{
  "nbformat": 4,
  "nbformat_minor": 0,
  "metadata": {
    "colab": {
      "name": "EP2-Biologia de Sistemas.ipynb",
      "provenance": [],
      "collapsed_sections": []
    },
    "kernelspec": {
      "name": "python3",
      "display_name": "Python 3"
    },
    "language_info": {
      "name": "python"
    }
  },
  "cells": [
    {
      "cell_type": "markdown",
      "metadata": {
        "id": "Orgq6JNEAOGb"
      },
      "source": [
        "### Nome:  \n",
        "### Número USP: "
      ]
    },
    {
      "cell_type": "markdown",
      "metadata": {
        "id": "B0d7A2S0kH0K"
      },
      "source": [
        "\n",
        "# Biologia de Sistemas - 2021.2\n",
        "## Exercício Programa 2 - Theshold Boolean Network - Inference Problem\n",
        "Muitos dos problemas de Biologia de Sistemas consistem em análises de dados obtidos de expressões gênicas para verificar a dependência entre os genes em determinadas situações como evolução de doenças, ciclos como divisão celular, floração de plantas, fases de desenvolvimento de protozoários, diferenciação de células embrionárias, entre outras. Nem sempre a coleta de dados é realizada temporalmente, e então, o que se obtém das amostras é um estado de estabilidade de um determinado processo.\n",
        "\n",
        "A questão que se coloca neste trabalho é, se é possível a partir de um atrator inferir a dependência entre os componentes analisados com o modelo de TBN (threshold boolean network).\n",
        "\n",
        "Para isso, utilizaremos o resultado obtido num modelo de divisão celular de uma célula de mamíferos proposto por Fauré et al., e tentaremos chegar a algumas matrizes candidatas a representação dessas interdependências entre os componentes regulatórios selecionados pelos autores. \n",
        "\n",
        "Alguns módulos com códigos apresentados em aula podem ser utilizados. Abaixo está a importação deles para o Google Colaboratory. Se você preferir fazer o exercício localmente faça o download para o seu computador através dos links.\n",
        "Você pode também utilizar seus proprios módulos, alterar estes que estão disponibilizados, ou ainda utilizar partes dos códigos que estão neles."
      ]
    },
    {
      "cell_type": "code",
      "metadata": {
        "id": "iaCHBOubj20J",
        "colab": {
          "base_uri": "https://localhost:8080/"
        },
        "outputId": "3c4385ae-229f-4bc3-a374-57a97bc2aa5b"
      },
      "source": [
        "#this tbn is fixed\n",
        "tbn_module_url = \"https://drive.google.com/file/d/1zqGWKBLyWWvVyxQCN0r1UT7lC3OEULqM/view?usp=sharing\"\n",
        "tbn_infer_module_url = \"https://drive.google.com/file/d/1VE0i4e6GzRq0tC_bHIMnHyL_Qa4WIVPq/view?usp=sharing\"\n",
        "tbn_neutral_graph_url = \"https://drive.google.com/file/d/17NQcOYoRxmxEV4mKiNVdYPKPTF2FRiUd/view?usp=sharing\"\n",
        "\n",
        "url_list = [tbn_infer_module_url, tbn_module_url, tbn_neutral_graph_url]\n",
        "\n",
        "for url in url_list:\n",
        "  a = url.find ('/d/')\n",
        "  b = url.find ('/view?usp=sharing')\n",
        "  id_file = url[a+3:b]\n",
        "  print (id_file)\n",
        "  !gdown --id $id_file"
      ],
      "execution_count": 1,
      "outputs": [
        {
          "output_type": "stream",
          "name": "stdout",
          "text": [
            "1VE0i4e6GzRq0tC_bHIMnHyL_Qa4WIVPq\n",
            "Downloading...\n",
            "From: https://drive.google.com/uc?id=1VE0i4e6GzRq0tC_bHIMnHyL_Qa4WIVPq\n",
            "To: /content/tbn_infer.py\n",
            "100% 4.06k/4.06k [00:00<00:00, 3.37MB/s]\n",
            "1zqGWKBLyWWvVyxQCN0r1UT7lC3OEULqM\n",
            "Downloading...\n",
            "From: https://drive.google.com/uc?id=1zqGWKBLyWWvVyxQCN0r1UT7lC3OEULqM\n",
            "To: /content/tbn.py\n",
            "100% 6.63k/6.63k [00:00<00:00, 14.4MB/s]\n",
            "17NQcOYoRxmxEV4mKiNVdYPKPTF2FRiUd\n",
            "Downloading...\n",
            "From: https://drive.google.com/uc?id=17NQcOYoRxmxEV4mKiNVdYPKPTF2FRiUd\n",
            "To: /content/tbn_neutral_graph.py\n",
            "100% 1.68k/1.68k [00:00<00:00, 4.37MB/s]\n"
          ]
        }
      ]
    },
    {
      "cell_type": "markdown",
      "metadata": {
        "id": "b0YA6a4CybKV"
      },
      "source": [
        "### Importação dos módulos\n",
        "Caso queira fazer o exercício localmente, verifique se no seu computador estes módulos estão instalados. Você poderá também utilizar outros módulos."
      ]
    },
    {
      "cell_type": "code",
      "metadata": {
        "id": "eKb903wQy8fo"
      },
      "source": [
        "from graphviz import Digraph, Graph\n",
        "# https://graphviz.readthedocs.io/en/stable/examples.html\n",
        "from itertools import product\n",
        "import numpy as np\n",
        "import random\n",
        "import re\n",
        "from tbn import tbn\n",
        "from tbn_infer import tbn_infer\n",
        "import matplotlib.pyplot as plt\n",
        "import pandas as pd\n",
        "from IPython.display import display, Image"
      ],
      "execution_count": 2,
      "outputs": []
    },
    {
      "cell_type": "code",
      "metadata": {
        "id": "9xBavK-x6gsb"
      },
      "source": [
        "### esta célula é para a instalação do PyBoolNet\n",
        "%%capture\n",
        "!apt install imagemagick\n",
        "!apt-get install libreadline-dev\n",
        "%cd /lib/x86_64-linux-gnu/\n",
        "%rm -rf libreadline.so.6\n",
        "!ln -s libreadline.so.7.0 libreadline.so.6\n",
        "!python3 -m pip install git+https://github.com/hklarner/PyBoolNet@2.31.0\n",
        "%cd /content"
      ],
      "execution_count": 3,
      "outputs": []
    },
    {
      "cell_type": "code",
      "metadata": {
        "id": "Y0plUQ-65Wkr"
      },
      "source": [
        "import PyBoolNet"
      ],
      "execution_count": 4,
      "outputs": []
    },
    {
      "cell_type": "code",
      "metadata": {
        "id": "zHhyudwx6bLQ"
      },
      "source": [
        "mammalian_paper_url = \"https://drive.google.com/file/d/1ixns9ZWtjP7PyGYIlOXFKZ7RAL5EzZMg/view?usp=sharing\""
      ],
      "execution_count": 5,
      "outputs": []
    },
    {
      "cell_type": "markdown",
      "metadata": {
        "id": "sYGVooXHxZ7-"
      },
      "source": [
        "## Tarefa 1\n",
        "Encontrar atratores utilizando o PyBoolNet ou EP1, ler o artigo."
      ]
    },
    {
      "cell_type": "markdown",
      "metadata": {
        "id": "MYIC0CpJAKsH"
      },
      "source": [
        "1) Leia o artigo: **Dynamical analysis of a generic Boolean model for the control of the mammalian cell cycle**, de Adrien Fauré et al. (`mammalian_paper_url`), e obtenha a rede booleana no formato do EP1.\n",
        "\n",
        "Observe que os nomes dos genes devem seguir a mesma ordem apresentada no artigo para que os estados produzidos possam ser comparados. Se for utilizar o módulo PyBoolNet preste atenção na ordem dos genes pois ela pode ser modificada pelo programa.\n",
        "\n",
        "2) Preencha a rede booleana proposta no artigo.\n",
        "\n",
        "3) Utilize a biblioteca PyBoolNet ou o EP1 para obter os atratores do modelo utilizando a abordagem síncrona de atualização.\n",
        "\n",
        "4) Discuta brevemente os resultados obtidos. "
      ]
    },
    {
      "cell_type": "markdown",
      "metadata": {
        "id": "daUl643aBnEf"
      },
      "source": [
        "### Exemplo de rede booleana com impressão do grafo de interação gênica e de grafo de transição de estados utilizando PyBoolNet"
      ]
    },
    {
      "cell_type": "code",
      "metadata": {
        "colab": {
          "base_uri": "https://localhost:8080/"
        },
        "id": "gCTEtO2P_dqS",
        "outputId": "78c003fd-27cb-4719-ac43-8c42e24baaff"
      },
      "source": [
        "### exemplo de rede booleana\n",
        "%%writefile exemplo.txt\n",
        "A, (!A&C)\n",
        "B, (!A&!B)\n",
        "C, (A&B)"
      ],
      "execution_count": 6,
      "outputs": [
        {
          "output_type": "stream",
          "name": "stdout",
          "text": [
            "Writing exemplo.txt\n"
          ]
        }
      ]
    },
    {
      "cell_type": "code",
      "metadata": {
        "id": "VCMFL7MnAPIo"
      },
      "source": [
        "### obtenção de atratores utilizando a abordagem síncrona\n",
        "primes = PyBoolNet.FileExchange.bnet2primes(\"exemplo.txt\") \n",
        "\n",
        "stg = PyBoolNet.StateTransitionGraphs.primes2stg(primes, \"synchronous\")\n",
        "steady, cyclic = PyBoolNet.Attractors.compute_attractors_tarjan(stg) # obtém lista de atratores singletons e cíclicos"
      ],
      "execution_count": 7,
      "outputs": []
    },
    {
      "cell_type": "code",
      "metadata": {
        "colab": {
          "base_uri": "https://localhost:8080/",
          "height": 188
        },
        "id": "2nIi0yfqBaAT",
        "outputId": "3eed1e37-e478-41ac-debf-87590a03f8f0"
      },
      "source": [
        "# impressão do IG\n",
        "PyBoolNet.InteractionGraphs.create_image(primes, \"exemplo_ig.png\",LayoutEngine=\"sfdp\")\n",
        "Image(\"exemplo_ig.png\")"
      ],
      "execution_count": 8,
      "outputs": [
        {
          "output_type": "stream",
          "name": "stdout",
          "text": [
            "created exemplo_ig.png\n"
          ]
        },
        {
          "output_type": "execute_result",
          "data": {
            "image/png": "[encoded data removed]",
            "text/plain": [
              "<IPython.core.display.Image object>"
            ]
          },
          "metadata": {},
          "execution_count": 8
        }
      ]
    },
    {
      "cell_type": "code",
      "metadata": {
        "colab": {
          "base_uri": "https://localhost:8080/",
          "height": 382
        },
        "id": "Ntz5E2U6BuUx",
        "outputId": "36e77b8a-1782-4aac-b464-db12d00cd267"
      },
      "source": [
        "# impressão do STG\n",
        "PyBoolNet.StateTransitionGraphs.create_image(primes, \"synchronous\", \"exemplo_stg.png\")\n",
        "Image (\"exemplo_stg.png\")"
      ],
      "execution_count": 9,
      "outputs": [
        {
          "output_type": "stream",
          "name": "stdout",
          "text": [
            "created exemplo_stg.png\n"
          ]
        },
        {
          "output_type": "execute_result",
          "data": {
            "image/png": "[encoded data removed]",
            "text/plain": [
              "<IPython.core.display.Image object>"
            ]
          },
          "metadata": {},
          "execution_count": 9
        }
      ]
    },
    {
      "cell_type": "markdown",
      "metadata": {
        "id": "9QZrQ0wxElE3"
      },
      "source": [
        "### Insira aqui a BN proposta no artigo"
      ]
    },
    {
      "cell_type": "code",
      "metadata": {
        "id": "D44GqrTz6qUm",
        "colab": {
          "base_uri": "https://localhost:8080/"
        },
        "outputId": "0b726055-ed0a-456f-944e-bee0dde4304c"
      },
      "source": [
        "### insira aqui a sua rede booleana\n",
        "%%writefile BN.txt\n"
      ],
      "execution_count": null,
      "outputs": [
        {
          "output_type": "stream",
          "name": "stderr",
          "text": [
            "UsageError: %%writefile is a cell magic, but the cell body is empty.\n"
          ]
        }
      ]
    },
    {
      "cell_type": "code",
      "metadata": {
        "id": "Ee6ObFOjGV8m"
      },
      "source": [
        "### código para encontrar os atratores"
      ],
      "execution_count": null,
      "outputs": []
    },
    {
      "cell_type": "markdown",
      "metadata": {
        "id": "fteZFyB6Glbi"
      },
      "source": [
        "### Breve discussão dos resultados obtidos.\n"
      ]
    },
    {
      "cell_type": "markdown",
      "metadata": {
        "id": "aSNXHn5M4Lgg"
      },
      "source": [
        "## Tarefa 2 \n",
        "A partir dos dois atratores que resultaram do modelo no artigo podemos inferir TBNs que corresposdem às possíveis soluções para cada um dos genes. \n",
        "\n",
        "Calcule quantas matrizes do modelo TBN são soluções possíveis para essas transições de estados dos atratores. Discuta o resultado obtido. "
      ]
    },
    {
      "cell_type": "code",
      "metadata": {
        "id": "OoRTvpj6HoPm"
      },
      "source": [
        "# Crie um conjunto de dados contendo as transições existentes nos atratores \n",
        "# Cada estado deve ser representado como uma lista de inteiros\n",
        "# Cada transição deve ser representada como uma lista com dois elementos, o estado atual e o estado sucessor\n",
        "# Inferir a tbn com base nos atratores \n"
      ],
      "execution_count": null,
      "outputs": []
    },
    {
      "cell_type": "markdown",
      "metadata": {
        "id": "6g9i81QvRvuR"
      },
      "source": [
        "### Breve discussão dos resultados obtidos."
      ]
    },
    {
      "cell_type": "markdown",
      "metadata": {
        "id": "KSGdSwEp5euG"
      },
      "source": [
        "## Tarefa 3\n",
        "1.   obtenha a tabela com todas as transições de estados do modelo do artigo ao invés de apenas \n",
        "os estados dos atratores;\n",
        "2.   faça a inferência do modelo de TBNs; e\n",
        "3.   discuta o resultado obtido.\n"
      ]
    },
    {
      "cell_type": "code",
      "metadata": {
        "id": "9EmVawrh7Z4F"
      },
      "source": [
        "#Escreva aqui seu código\n"
      ],
      "execution_count": null,
      "outputs": []
    },
    {
      "cell_type": "markdown",
      "metadata": {
        "id": "S0v7rmL2_903"
      },
      "source": [
        "### Breve discussão dos resultados obtidos."
      ]
    },
    {
      "cell_type": "markdown",
      "metadata": {
        "id": "NlH4Le7umbU2"
      },
      "source": [
        "## Tarefa 4\n",
        "Uma das estratégias para diminuir o espaço de busca seria selecionar as linhas com maior número de zeros, uma vez que poderíamos pensar que buscamos matrizes mais simples, ou seja, com menor número de arestas mantendo as transições de estado dos atratores\n",
        "\n",
        "\n",
        "Filtrando pela maior quantidade de zeros em cada linha quantas matrizes são possíveis soluções? Verifique aleatoriamente algumas dessas matrizes. Os grafos de Regulação Gênica são conexos? Essas matrizes são coerentes para o problema proposto?"
      ]
    },
    {
      "cell_type": "code",
      "metadata": {
        "id": "Mc_nKrHVCVxO"
      },
      "source": [
        "\"\"\" Filtragem de soluções com o menor número de arestas\n",
        "    - Linhas com maior quantidade zeros                 \"\"\"\n",
        "# Escreva aqui seu código\n"
      ],
      "execution_count": null,
      "outputs": []
    },
    {
      "cell_type": "code",
      "metadata": {
        "colab": {
          "base_uri": "https://localhost:8080/",
          "height": 35
        },
        "id": "U0G-QPY-C74l",
        "outputId": "cd0e6b41-8b75-408f-a3f0-be3108eae9de"
      },
      "source": [
        "\"\"\" Imprima a quantidade de soluções - linhas possíveis para cada gene\"\"\"\n",
        "# Escreva aqui seu código\n"
      ],
      "execution_count": 10,
      "outputs": [
        {
          "output_type": "execute_result",
          "data": {
            "application/vnd.google.colaboratory.intrinsic+json": {
              "type": "string"
            },
            "text/plain": [
              "' Imprima a quantidade de soluções - linhas possíveis para cada gene'"
            ]
          },
          "metadata": {},
          "execution_count": 10
        }
      ]
    },
    {
      "cell_type": "code",
      "metadata": {
        "colab": {
          "base_uri": "https://localhost:8080/",
          "height": 35
        },
        "id": "HX-RV7m_FGrA",
        "outputId": "55d3f21f-64c4-434d-db64-4a1a88e91436"
      },
      "source": [
        "\"\"\" Obtenção de matriz aleatória \"\"\"\n",
        "# Escreva aqui seu código\n"
      ],
      "execution_count": 11,
      "outputs": [
        {
          "output_type": "execute_result",
          "data": {
            "application/vnd.google.colaboratory.intrinsic+json": {
              "type": "string"
            },
            "text/plain": [
              "' Obtenção de matriz aleatória '"
            ]
          },
          "metadata": {},
          "execution_count": 11
        }
      ]
    },
    {
      "cell_type": "markdown",
      "metadata": {
        "id": "zIfUIM47LkZw"
      },
      "source": [
        "### Discussão dos resultados obtidos."
      ]
    },
    {
      "cell_type": "markdown",
      "metadata": {
        "id": "mAI9QsWdmrAv"
      },
      "source": [
        "## Tarefa 5 - (2 pontos)\n",
        "Uma outra estratégia é acrescentar restrições para alguns genes de acordo com as dependências propostas no artigo, como por exemplo, para CycD que sinaliza a divisão celular deverá estar sempre ativado e não ser influenciado por nenhum dos demais genes analisados pois todos estão envolvidos no processo da divisão. Além disso, Rb é inibido por todas as ciclinas uma vez que eles se relacionam à fase de crescimento da célula. Tente com outras restrições e verifique se há mudança significativa no conjunto de soluções."
      ]
    },
    {
      "cell_type": "code",
      "metadata": {
        "id": "XuIpFfusWKkf"
      },
      "source": [
        "# Nas soluções possíveis mantenha para CycD apenas a linha [1,  0,  0, 0, 0,  0,  0,  0,  0, 0]\n",
        "# Nas soluções para Rb selecione as linhas em que as ciclinas tenham o valor -1\n",
        "# Verifique a quantidade de matrizes possíveis\n",
        "# Acrescente outras restrições para verificar se há mudança no conjunto de soluções\n",
        "# Verifique também agora com a seleção de linhas com maior quantidade de zeros\n",
        "\n",
        "# seu código aqui"
      ],
      "execution_count": null,
      "outputs": []
    },
    {
      "cell_type": "markdown",
      "metadata": {
        "id": "PX9cUQLRYgNC"
      },
      "source": [
        "### Comente os resultados obtidos após a observação de algumas matrizes aleatórias deste novo conjunto de possíveis soluções\n"
      ]
    },
    {
      "cell_type": "markdown",
      "metadata": {
        "id": "t-ZsOZ4-nUS8"
      },
      "source": [
        "## Tarefa 6\n",
        "Faça uma análise das matrizes candidatas. Você pode utilizar códigos disponibilizados e também criar os seus.\n",
        "Utilize quantas células com código que quiser"
      ]
    },
    {
      "cell_type": "markdown",
      "metadata": {
        "id": "TeKE_Kd8oNIt"
      },
      "source": [
        "## Tarefa 7\n",
        "Seleção de uma melhor candidata - descrever quais foram os critérios utilizados para se chegar a esta conclusão."
      ]
    },
    {
      "cell_type": "markdown",
      "metadata": {
        "id": "S8vu-q3pvXY3"
      },
      "source": [
        "## Tarefa 8 - (2 pontos) - fazer um dos itens abaixo\n",
        "* Crie outras formas de diminuir o espaço de busca para a viabilizar a análise das possíveis soluções indicando também o tempo de execução que foi necessário.\n",
        "* Ou, caso você tenha recursos para realizar uma busca exaustiva descreva também os requisitos que foram necessários e o tempo de execução. Disponibilize seu código.\n",
        "* Ou você pode criar um módulo de análise de redes BN e TBN melhorando os códigos disponibilizados em aula."
      ]
    }
  ]
}